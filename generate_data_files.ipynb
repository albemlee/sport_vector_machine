{
 "cells": [
  {
   "cell_type": "code",
   "execution_count": null,
   "metadata": {},
   "outputs": [],
   "source": [
    "import pybaseball\n",
    "import pandas as pd\n",
    "import warnings\n",
    "warnings.filterwarnings(\"ignore\")"
   ]
  },
  {
   "cell_type": "code",
   "execution_count": null,
   "metadata": {},
   "outputs": [],
   "source": [
    "# Generate aaron_judge data\n",
    "data = pybaseball.statcast('2017-04-02', '2017-09-30')\n",
    "aaron_judge = data[data['batter']==592450].copy()\n",
    "aaron_judge.drop(columns='index', inplace=True)\n",
    "aaron_judge.to_csv('aaron_judge.csv', index=False)\n",
    "print(aaron_judge.shape)"
   ]
  },
  {
   "cell_type": "code",
   "execution_count": null,
   "metadata": {},
   "outputs": [],
   "source": [
    "# Generate jose_altuve data\n",
    "data = pybaseball.statcast('2017-04-03', '2017-10-01')\n",
    "jose_altuve = data[data['batter']==514888].copy()\n",
    "jose_altuve.drop(columns='index', inplace=True)\n",
    "jose_altuve.to_csv('jose_altuve.csv', index=False)\n",
    "print(jose_altuve.shape)"
   ]
  },
  {
   "cell_type": "code",
   "execution_count": null,
   "metadata": {},
   "outputs": [],
   "source": [
    "# Generate david_ortiz data\n",
    "data = pybaseball.statcast('2015-04-02', '2015-10-02')\n",
    "david_ortiz = data[data['batter']==120074].copy()\n",
    "david_ortiz.drop(columns='index', inplace=True)\n",
    "david_ortiz.to_csv('david_ortiz.csv', index=False)\n",
    "print(david_ortiz.shape)"
   ]
  }
 ],
 "metadata": {
  "kernelspec": {
   "display_name": "Python 3",
   "language": "python",
   "name": "python3"
  },
  "language_info": {
   "codemirror_mode": {
    "name": "ipython",
    "version": 3
   },
   "file_extension": ".py",
   "mimetype": "text/x-python",
   "name": "python",
   "nbconvert_exporter": "python",
   "pygments_lexer": "ipython3",
   "version": "3.6.5"
  }
 },
 "nbformat": 4,
 "nbformat_minor": 2
}
